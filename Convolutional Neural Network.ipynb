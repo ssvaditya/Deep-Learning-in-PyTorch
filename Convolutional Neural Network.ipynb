{
 "cells": [
  {
   "cell_type": "code",
   "execution_count": null,
   "id": "8a7c42fd",
   "metadata": {},
   "outputs": [],
   "source": [
    "import torch\n",
    "import torch.nn as nn\n",
    "import torch.optim as optim\n",
    "import torch.nn.functional as F"
   ]
  },
  {
   "cell_type": "code",
   "execution_count": null,
   "id": "719e13c7",
   "metadata": {},
   "outputs": [],
   "source": [
    "from torch.utils.data import DataLoader\n",
    "import torchvision.datasets as datasets\n",
    "import torchvision.transforms as transforms"
   ]
  },
  {
   "cell_type": "code",
   "execution_count": null,
   "id": "2ee9d38e",
   "metadata": {},
   "outputs": [],
   "source": [
    "class CNN(nn.Module):\n",
    "    def __init__(self, in_channels=1, num_classes=10):\n",
    "        super(CNN, self).__init__()\n",
    "        self.conv1 = nn.Conv2d(in_channels, out_channels= 8, kernel_size=(3,3), stride=(1,1), padding='same')\n",
    "        self.pool = nn.MaxPool2d(kernel_size=(2,2), stride=(2,2))\n",
    "        self.conv2 = nn.Conv2d(in_channels=8, out_channels=16, kernel_size=(3,3), stride=(1,1), padding='same')\n",
    "        self.fc = nn.Linear(in_features=16*7*7, out_features=num_classes )\n",
    "            \n",
    "            \n",
    "            \n",
    "    def forward(self, x):\n",
    "        x = F.relu(self.conv1(x))\n",
    "        x = self.pool(x)\n",
    "        x = F.relu(self.conv2(x))\n",
    "        x = self.pool(x)\n",
    "        x = x.reshape([x.shape[0], -1])\n",
    "        x = self.fc(x)\n",
    "        return x\n",
    "        \n",
    "        "
   ]
  },
  {
   "cell_type": "code",
   "execution_count": null,
   "id": "6c3105c7",
   "metadata": {},
   "outputs": [],
   "source": [
    "model = CNN()\n",
    "x= torch.randn(64, 1, 28, 28)\n",
    "print(model(x).shape)"
   ]
  },
  {
   "cell_type": "code",
   "execution_count": null,
   "id": "52c7f839",
   "metadata": {},
   "outputs": [],
   "source": [
    "#Set device\n",
    "device = torch.device('cuda' if torch.cuda.is_available() else 'cpu')\n",
    "\n",
    "#hyperparams\n",
    "in_channels= 1\n",
    "num_classes= 10\n",
    "num_epochs = 100\n",
    "batch_size = 64\n",
    "lr = 0.001"
   ]
  },
  {
   "cell_type": "code",
   "execution_count": null,
   "id": "ea551fbd",
   "metadata": {},
   "outputs": [],
   "source": [
    "train_dataset = datasets.MNIST(root='dataset/', train = True, transform = transforms.ToTensor(), download = True)\n",
    "train_loader = DataLoader(dataset=train_dataset, batch_size = batch_size, shuffle=True)\n",
    "test_dataset = datasets.MNIST(root='dataset/', train = False, transform = transforms.ToTensor(), download = True)\n",
    "test_loader = DataLoader(dataset=test_dataset, batch_size = batch_size, shuffle=True)"
   ]
  },
  {
   "cell_type": "code",
   "execution_count": null,
   "id": "a5069480",
   "metadata": {},
   "outputs": [],
   "source": [
    "model = CNN(in_channels = in_channels, num_classes = num_classes).to(device)"
   ]
  },
  {
   "cell_type": "code",
   "execution_count": null,
   "id": "327d6371",
   "metadata": {},
   "outputs": [],
   "source": [
    "loss_function = nn.CrossEntropyLoss()\n",
    "optimizer = optim.Adam(model.parameters(), lr = lr)"
   ]
  },
  {
   "cell_type": "code",
   "execution_count": null,
   "id": "4f334e83",
   "metadata": {},
   "outputs": [],
   "source": [
    "#Train Network\n",
    "for epoch in range(num_epochs):\n",
    "    if epoch<50:\n",
    "        lr = 0.001\n",
    "    else:\n",
    "        lr = 0.00001\n",
    "    for batch_id, (data, targets) in enumerate(train_loader):\n",
    "        data = data.to(device=device)\n",
    "        targets = targets.to(device=device)\n",
    "        \n",
    "        \n",
    "        #Forward\n",
    "        scores = model(data)\n",
    "        loss = loss_function(scores, targets)\n",
    "        \n",
    "        #Backward\n",
    "        optimizer.zero_grad()\n",
    "        loss.backward()\n",
    "        \n",
    "        #gradient descent\n",
    "        optimizer.step()\n",
    "        \n",
    "\n",
    "def check_accuracy(loader, model):\n",
    "    if loader.dataset.train:\n",
    "        print(\"Checking accuracy on taining data\")\n",
    "    else:\n",
    "        print(\"Checking accuracy on test data\")\n",
    "        \n",
    "    num_correct = 0\n",
    "    num_samples = 0\n",
    "    model.eval()\n",
    "    \n",
    "    with torch.no_grad():\n",
    "        for x,y in loader:\n",
    "            x = x.to(device=device)\n",
    "            y = y.to(device=device)\n",
    "\n",
    "            \n",
    "            \n",
    "            scores = model(x)\n",
    "            _, predictions = scores.max(1)\n",
    "            num_correct += (predictions == y).sum()\n",
    "            num_samples += predictions.size(0)\n",
    "            \n",
    "\n",
    "            \n",
    "        \n",
    "        print(f'Got {num_correct}/{num_samples} with accuracy {float(num_correct)/float(num_samples)*100:.2f}')\n",
    "        model.train()"
   ]
  },
  {
   "cell_type": "code",
   "execution_count": null,
   "id": "e472510f",
   "metadata": {},
   "outputs": [],
   "source": [
    "check_accuracy(train_loader, model)\n",
    "check_accuracy(test_loader, model)"
   ]
  },
  {
   "cell_type": "markdown",
   "id": "272275f9",
   "metadata": {},
   "source": [
    "Checking accuracy on taining data<br>\n",
    "Got 59988/60000 with accuracy 99.98<br>\n",
    "Checking accuracy on test data<br>\n",
    "Got 9867/10000 with accuracy 98.67"
   ]
  }
 ],
 "metadata": {
  "kernelspec": {
   "display_name": "Python 3",
   "language": "python",
   "name": "python3"
  },
  "language_info": {
   "codemirror_mode": {
    "name": "ipython",
    "version": 3
   },
   "file_extension": ".py",
   "mimetype": "text/x-python",
   "name": "python",
   "nbconvert_exporter": "python",
   "pygments_lexer": "ipython3",
   "version": "3.8.10"
  }
 },
 "nbformat": 4,
 "nbformat_minor": 5
}
